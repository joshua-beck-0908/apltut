{
 "cells": [
  {
   "cell_type": "markdown",
   "metadata": {},
   "source": [
    "<style> p { max-width: 500px; } </style>\n",
    "# APL Start\n",
    "\n",
    "I'm restarting this programming learning project.\n",
    "\n",
    "APL and its strange symbols have interested me for a while!\n",
    "\n",
    "I'm interested in learning something really... weird but functional.\n",
    "Something that might challenge the way I think about programming.\n",
    "\n",
    "I've already install Dyalog interpreter then I installed the Dyalog Jupyter kernel here:\n",
    "https://github.com/Dyalog/dyalog-jupyter-kernel\n",
    "\n",
    "Additionally I added an APL keyboard to my fcitx input methods.\n",
    "\n",
    "So it should be possible to write it all in the notebook!\n",
    "\n",
    "I'll follow through this tutorial here:\n",
    "https://xpqz.github.io/learnapl/intro.html\n"
   ]
  }
 ],
 "metadata": {
  "language_info": {
   "name": "python"
  }
 },
 "nbformat": 4,
 "nbformat_minor": 2
}
