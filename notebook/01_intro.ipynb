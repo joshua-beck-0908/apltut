{
 "cells": [
  {
   "cell_type": "markdown",
   "metadata": {},
   "source": [
    "<style> p { max-width: 500px; } </style>\n",
    "# [What is APL?](https://xpqz.github.io/learnapl/intro.html#what-is-apl)\n",
    "\n",
    "> APL is an array language, and one of the oldest programming languages still in use today, next to FORTRAN, Lisp and COBOL. APL uses its own curious-looking symbols, like ⍎⌽⍕⌈*○≡⍬, rather than reserved words written out in English like most other languages, like C or Python. As a language, APL sits at a very high level of abstraction, making it well suited to ultra-concise formulations of algorithms.\n",
    "\n",
    "Interesting. \n",
    "\n",
    "I haven't learnt a symbol language before, and that looks pretty intigating.\n",
    "\n",
    "Apparently this has advantages with modern CPU optimisations because it makes you think in vectors?\n",
    "\n",
    "I'll admit I haven't tried J or K programming. Maybe that's something to try later.\n",
    "\n"
   ]
  },
  {
   "cell_type": "markdown",
   "metadata": {},
   "source": [
    "<style> p { max-width: 500px; } </style>\n",
    "\n",
    "## […but it’s unreadable!](https://xpqz.github.io/learnapl/intro.html#but-it-s-unreadable)\n",
    "\n",
    "So an example is given:\n",
    "```apl\n",
    "crt←{m|⍵+.×⍺(⊣×⊢|∘⊃{0=⍵:1 0 ⋄ (⍵∇⍵|⍺)+.×0 1,⍪1,-⌊⍺÷⍵})¨⍨⍺÷⍨m←×/⍺} ⍝ From APL Cart\n",
    "```\n",
    "\n",
    "Apparently this is an implementation of Chinese Reminder Theorem. \n",
    "\n",
    "I'll... have to take their word for it until I learn more. \n",
    "\n",
    "They give the example of Japanese Kanji, which is unreadable until you learn Japanese. \n",
    "\n",
    "But yeah, this is not one of these languages with a C-like syntax that a programmer experienced in other languages can read right away.\n",
    "\n",
    "There's going to be some upfront code.\n",
    "\n",
    "And also mental adjustments when you need to learn to write programs without looping and branching.\n",
    "\n",
    "There are some of these loops and branches covered in the Dyalog dialect.\n",
    "But the tutorial will not discuss those.\n",
    "\n",
    "I was worried about tool mismatch, but this tutorial does intend for you to use the Jupyter Dyalog kernel.\n",
    "\n",
    "Well I'm ready to get started.\n"
   ]
  },
  {
   "cell_type": "code",
   "execution_count": 2,
   "metadata": {
    "vscode": {
     "languageId": "plaintext"
    }
   },
   "outputs": [],
   "source": [
    "⍝ This is a comment.\n",
    "⍝ It used a lamp symbol located in place of a comma.\n",
    "\n",
    "⍝ This sets the array origin to zero (otherwise one is the default like in Julia\n",
    "⎕IO ← 0\n"
   ]
  },
  {
   "cell_type": "markdown",
   "metadata": {},
   "source": [
    "<style> p { max-width: 500px; } </style>\n",
    "So we have this \"quad\" symbol '⎕' on the 'L' key that seems to do some kind of configuration.\n",
    "\n",
    "And the left arrow '←' located on the left square bracket is used for assignment.\n",
    "\n",
    "Find so far, but it's going to require significant muscle memory if this gets more complicated.\n",
    "\n",
    "They've got this... lamp symbol '⍝' located on the comma. \n",
    "\n",
    "The tutorial says to think of it like a lamp or LED illuminator the code.😂 \n",
    "\n",
    "I think that's kinda nice.💡\n",
    "\n",
    "\n",
    "\n"
   ]
  },
  {
   "cell_type": "code",
   "execution_count": 10,
   "metadata": {
    "vscode": {
     "languageId": "plaintext"
    }
   },
   "outputs": [
    {
     "data": {
      "text/html": [
       "<pre class=\"language-APL\">23\n",
       "</pre>"
      ]
     },
     "execution_count": 10,
     "metadata": {},
     "output_type": "execute_result"
    },
    {
     "data": {
      "text/html": [
       "<pre class=\"language-APL\">81\n",
       "</pre>"
      ]
     },
     "execution_count": 10,
     "metadata": {},
     "output_type": "execute_result"
    },
    {
     "data": {
      "text/html": [
       "<pre class=\"language-APL\">12\n",
       "</pre>"
      ]
     },
     "execution_count": 10,
     "metadata": {},
     "output_type": "execute_result"
    },
    {
     "data": {
      "text/html": [
       "<pre class=\"language-APL\">2 2 2 2\n",
       "</pre>"
      ]
     },
     "execution_count": 10,
     "metadata": {},
     "output_type": "execute_result"
    },
    {
     "data": {
      "text/html": [
       "<pre class=\"language-APL\">2\n",
       "</pre>"
      ]
     },
     "execution_count": 10,
     "metadata": {},
     "output_type": "execute_result"
    }
   ],
   "source": [
    "⍝ The quad prints to the screen.\n",
    "⎕←23\n",
    "\n",
    "⍝ The asterisk is located on the p key.\n",
    "\n",
    "⍝ The asterisk is actually an exponent?!\n",
    "⎕←3*4\n",
    "\n",
    "⍝ The real multiplication symbol is located on the dash key.\n",
    "⎕←3×4\n",
    "\n",
    "⍝ The slash actually repeats an item!\n",
    "⍝ Here two is printed four times.\n",
    "⎕←4/2\n",
    "\n",
    "⍝ We instead have to use the divide symbol located on the equals key.\n",
    "⎕←4÷2\n"
   ]
  },
  {
   "cell_type": "markdown",
   "metadata": {},
   "source": [
    "<style> p { max-width: 500px; } </style>\n",
    "Well that's interesting (I skipped ahead a little for print).\n",
    "\n",
    "If you use the standard maths symbols `×,÷` it works.\n",
    "\n",
    "If you use the programming alternatives `*,/`, you're going to have a bad time.\n",
    "\n",
    "You seems to need to quickly switch between a standard and APL layout to type this...\n",
    "\n",
    "My language switch pedal is working really well for that purpose.\n"
   ]
  },
  {
   "cell_type": "code",
   "execution_count": 14,
   "metadata": {
    "vscode": {
     "languageId": "plaintext"
    }
   },
   "outputs": [
    {
     "data": {
      "text/html": [
       "<pre class=\"language-APL\">24\n",
       "</pre>"
      ]
     },
     "execution_count": 14,
     "metadata": {},
     "output_type": "execute_result"
    },
    {
     "data": {
      "text/html": [
       "<pre class=\"language-APL\">17\n",
       "</pre>"
      ]
     },
     "execution_count": 14,
     "metadata": {},
     "output_type": "execute_result"
    }
   ],
   "source": [
    "⍝ One unintuitive thing is this example:\n",
    "⎕←2×5+7\n",
    "⍝ It equals 24 when it should logically be 17 though standard order-of-operations.\n",
    "\n",
    "⍝ This is because APL is strictly right-to-left.\n",
    "⍝ If you add brackets it works the way you'd expect.\n",
    "⎕←(2×5)+7\n",
    "⍝ i.e. it equals seventeen.\n"
   ]
  },
  {
   "cell_type": "markdown",
   "metadata": {},
   "source": [
    "<style> p { max-width: 500px; } </style>\n",
    "Well I'm going to need to remember not to take the order of operation for granted."
   ]
  },
  {
   "cell_type": "code",
   "execution_count": 18,
   "metadata": {
    "vscode": {
     "languageId": "plaintext"
    }
   },
   "outputs": [
    {
     "data": {
      "text/html": [
       "<pre class=\"language-APL\">3.1415\n",
       "</pre>"
      ]
     },
     "execution_count": 18,
     "metadata": {},
     "output_type": "execute_result"
    },
    {
     "data": {
      "text/html": [
       "<pre class=\"language-APL\">3.1415\n",
       "</pre>"
      ]
     },
     "execution_count": 18,
     "metadata": {},
     "output_type": "execute_result"
    }
   ],
   "source": [
    "⍝ The arrow is used for assignment.\n",
    "a←100\n",
    "\n",
    "⍝ The right tack can be used to return the result of an expression (or print).\n",
    "⊢pi←3.1415\n",
    "\n",
    "⍝ The quad can also be used to represent the screen.\n",
    "⎕←pi\n"
   ]
  },
  {
   "cell_type": "markdown",
   "metadata": {},
   "source": [
    "<style> p { max-width: 500px; } </style>\n",
    "\n",
    "Pretty standard non-unicode variable names.\n",
    "\n",
    "They consist of letters, underscores, and numbers (except the first char).\n",
    "\n",
    "The lack of unicode is disappointing but not surprising for the time of development.\n",
    "\n",
    "It does make sense to use terse names in this context."
   ]
  },
  {
   "cell_type": "markdown",
   "metadata": {},
   "source": [
    "<style> p { max-width: 500px; } </style>\n",
    "## [Valence](https://xpqz.github.io/learnapl/intro.html#valence)\n",
    "\n",
    "> There is a central tenet when writing about programming that for every mention of the word monad you lose half your readership. We can blame Team Haskell for that.\n",
    "\n",
    "Oh man, that made me laugh pretty hard.\n",
    "\n",
    "Fortunately I already know what a monad and a dyad is.\n",
    "\n"
   ]
  }
 ],
 "metadata": {
  "kernelspec": {
   "display_name": "Dyalog APL",
   "language": "apl",
   "name": "dyalog_apl"
  },
  "language_info": {
   "file_extension": ".apl",
   "mimetype": "text/apl",
   "name": "APL"
  }
 },
 "nbformat": 4,
 "nbformat_minor": 2
}
