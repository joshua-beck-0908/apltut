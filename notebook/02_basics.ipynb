{
 "cells": [
  {
   "cell_type": "markdown",
   "metadata": {},
   "source": [
    "<style> * { max-width: 500px; } </style>\n",
    "\n",
    "# [It’s arrays all the way down](https://xpqz.github.io/learnapl/array.html#it-s-arrays-all-the-way-down)\n",
    "\n",
    "    There are two ways of constructing a software design: One way is to make it so simple that there are obviously no deficiencies, and the other way is to make it so complicated that there are no obvious deficiencies. The first method is far more difficult. –Tony Hoare\n",
    "    \n",
    "Haha, really killing it with the quotes!\n",
    "\n",
    "    Dyalog APL is an array language. Chances are that you have not come across this programming language paradigm before. \n",
    "\n",
    "Hmm... I've *seen* array languages, but I can't claim to be experienced with any.\n",
    "\n",
    "They did talk about the language's possibility for parallelism at the start.\n",
    "\n",
    "Well I'm curious to learn!\n",
    "\n",
    "    Both in mathematics and other programming languages there are many different words used to refer to what might ultimately end up implemented as an array in APL – vector, matrix, list, string etc.\n",
    "\n",
    "Oh geez... they really do mean it's **all** arrays.\n",
    "\n",
    "Apparently this can replace branching and loops?\n",
    "\n",
    "I wonder if it's something like Haskell?\n",
    "\n",
    "How does it work exactly?\n"
   ]
  },
  {
   "cell_type": "markdown",
   "metadata": {},
   "source": [
    "<style> * { max-width: 500px; } </style>\n",
    "\n",
    "So the example they've given replaces this Python code:\n",
    "```python\n",
    "def sumfirst(d):\n",
    "    total = 0\n",
    "    for item in d:\n",
    "        total += item[0]\n",
    "    return total\n",
    "```\n",
    "\n",
    "With this APL:\n",
    "```apl\n",
    "⊃+⌿↑data\n",
    "```\n",
    "\n",
    "I... I'm going to need an explaination of that one."
   ]
  },
  {
   "cell_type": "code",
   "execution_count": 5,
   "metadata": {
    "vscode": {
     "languageId": "apl"
    }
   },
   "outputs": [
    {
     "data": {
      "text/html": [
       "<pre class=\"language-APL\"> 1 2 3 5 8 13  1 2 3 4 5 6  1 2 6 24 120 720 \n",
       "</pre>"
      ]
     },
     "execution_count": 5,
     "metadata": {},
     "output_type": "execute_result"
    },
    {
     "data": {
      "text/html": [
       "<pre class=\"language-APL\">1 2 3  5   8  13\n",
       "1 2 3  4   5   6\n",
       "1 2 6 24 120 720\n",
       "</pre>"
      ]
     },
     "execution_count": 5,
     "metadata": {},
     "output_type": "execute_result"
    },
    {
     "data": {
      "text/html": [
       "<pre class=\"language-APL\">3 6 12 33 133 739\n",
       "</pre>"
      ]
     },
     "execution_count": 5,
     "metadata": {},
     "output_type": "execute_result"
    },
    {
     "data": {
      "text/html": [
       "<pre class=\"language-APL\">3\n",
       "</pre>"
      ]
     },
     "execution_count": 5,
     "metadata": {},
     "output_type": "execute_result"
    }
   ],
   "source": [
    "⍝ Yeah I didn't forget we had to do this...\n",
    "⎕IO←0\n",
    "\n",
    "⍝ So apparently you can just put the arrays next to each other.\n",
    "⎕←data←(1, 2, 3, 5, 8, 13) (1, 2, 3, 4, 5, 6) (1, 2, 6, 24, 120, 720)\n",
    "\n",
    "⍝ The up operator turns this list of arrays into a two dimensional array.\n",
    "⎕←↑data\n",
    "\n",
    "⍝ The combination of the '+' and '⌿' operators seems to sum each column...?\n",
    "⍝ So the plus it add and `⌿` means column-wise?\n",
    "⎕←+⌿↑data\n",
    "\n",
    "⍝ Then the uh, sideways union operator `⊃` selects the first element?\n",
    "⎕←⊃+⌿↑data"
   ]
  },
  {
   "cell_type": "markdown",
   "metadata": {},
   "source": [
    "![Extra Dimensional Up Operator](data/000_up_operator.png)"
   ]
  },
  {
   "cell_type": "markdown",
   "metadata": {},
   "source": [
    "<style> * { max-width: 500px; } </style>\n",
    "\n",
    "That a lot to unpack, definitely some fresh mental imagery is needed. 🤔\n",
    "\n",
    "I think the up opererator is like so kind of superhero rising to a portal to a high dimension.\n",
    "\n",
    "And the `⊃` operator is like a little cup scooping up a value off the left side of the list. 🥤\n",
    "\n",
    "Plus is obvious for adding elements.\n",
    "\n",
    "Hmm... I wonder what happens if you use a different operator there?\n",
    "\n"
   ]
  },
  {
   "cell_type": "code",
   "execution_count": 8,
   "metadata": {
    "vscode": {
     "languageId": "apl"
    }
   },
   "outputs": [
    {
     "data": {
      "text/html": [
       "<pre class=\"language-APL\">1 8 54 480 4800 56160\n",
       "</pre>"
      ]
     },
     "execution_count": 8,
     "metadata": {},
     "output_type": "execute_result"
    },
    {
     "data": {
      "text/html": [
       "<pre class=\"language-APL\">1 2 6 25 123 727\n",
       "</pre>"
      ]
     },
     "execution_count": 8,
     "metadata": {},
     "output_type": "execute_result"
    },
    {
     "data": {
      "text/html": [
       "<pre class=\"language-APL\">3\n",
       "</pre>"
      ]
     },
     "execution_count": 8,
     "metadata": {},
     "output_type": "execute_result"
    }
   ],
   "source": [
    "⍝ Let's see what this does!\n",
    "⎕ ← ×⌿↑data\n",
    "⍝ It works! Now the columns are multiplied.\n",
    "\n",
    "⍝ What about subtraction?\n",
    "⎕ ← -⌿↑data\n",
    "⍝ What the heck???\n",
    "\n",
    "⎕ ← 5-2"
   ]
  },
  {
   "cell_type": "markdown",
   "metadata": {},
   "source": [
    "<style> * { max-width: 500px; } </style>\n",
    "\n",
    "So my theory about the ⌿ operator seems to have been correct.\n",
    "\n",
    "However the result of using it with subtraction is quite... weird.\n",
    "\n",
    "It took my a minute to figure out what operator is even being applied.\n",
    "\n",
    "As far as I can tell: adding the difference between the first and second to the third value.\n",
    "\n",
    "Puzzling. Well I'd like to play around more, but I'll take a break for a workout and get back to it."
   ]
  },
  {
   "cell_type": "markdown",
   "metadata": {},
   "source": [
    "<style> * { max-width: 500px; } </style>\n",
    "\n",
    "## [Let’s get in shape](https://xpqz.github.io/learnapl/array.html#let-s-get-in-shape)\n",
    "\n",
    "A fitting title.\n",
    "\n",
    "Anyway. \n",
    "\n",
    "It sounds like they're about to introduce *even more* abstract concepts.\n",
    "\n",
    "But my body is ready!\n",
    "\n",
    "```apl\n",
    "⍴5\n",
    "```\n",
    "\n",
    "What... is this? \n",
    "\n",
    "Based on the context: a five dimensional matrix?\n",
    "\n"
   ]
  },
  {
   "cell_type": "code",
   "execution_count": null,
   "metadata": {
    "vscode": {
     "languageId": "apl"
    }
   },
   "outputs": [
    {
     "data": {
      "text/html": [
       "<pre class=\"language-APL\">┌⊖┐\n",
       "│0│\n",
       "└~┘\n",
       "</pre>"
      ]
     },
     "execution_count": 11,
     "metadata": {},
     "output_type": "execute_result"
    },
    {
     "data": {
      "text/html": [
       "<pre class=\"language-APL\">┌→────────────────┐\n",
       "│Was ON -style=max│\n",
       "└─────────────────┘\n",
       "</pre>"
      ]
     },
     "execution_count": 11,
     "metadata": {},
     "output_type": "execute_result"
    },
    {
     "data": {
      "text/html": [
       "<pre class=\"language-APL\">┌⊖┐\n",
       "│0│\n",
       "└~┘\n",
       "</pre>"
      ]
     },
     "execution_count": 11,
     "metadata": {},
     "output_type": "execute_result"
    }
   ],
   "source": [
    "⍝ Handily the rho symbol ⍴ is located on the R-key \n",
    "⍝ so it matches the greek letter.\n",
    "⍴4\n",
    "\n",
    "⍝ This adds some extra formatting.\n",
    "] box on -style=max\n",
    "\n",
    "⍴4"
   ]
  },
  {
   "cell_type": "markdown",
   "metadata": {},
   "source": [
    "<style> * { max-width: 500px; } </style>\n",
    "\n",
    "Uhh... so even after the formatting operations are on that's not telling us much.\n",
    "\n",
    "There's a zero in the box with a... \"zilda\" (`⊖`) symbol above it.\n",
    "\n",
    "Apparently you can use \n",
    "```apl\n",
    "] box -??\n",
    "```\n",
    "to learn the rest of the box commands.\n",
    "\n",
    "That's probably not the biggest priority right now.\n",
    "\n",
    "The zilda at the top means the length is zero.\n",
    "\n",
    "It sounds APL just made that up that symbol, but actually...\n",
    "\n",
    "No, I looked it up, they really did make it up.\n",
    "\n",
    "Anyway. The tilde at the bottom indicates the element isn't nested, and the number zero in middle is the *prototype element*.\n",
    "\n",
    "The prototype element tells you about the type.\n",
    "\n",
    "This prototype incidicates a numerical vector.\n",
    "\n",
    "I used a different number, but it didn't make any difference to the output.\n",
    "Therefore my initial speculation must be wrong.\n",
    "\n",
    "So what is it them?\n"
   ]
  },
  {
   "cell_type": "code",
   "execution_count": 13,
   "metadata": {
    "vscode": {
     "languageId": "apl"
    }
   },
   "outputs": [
    {
     "data": {
      "text/html": [
       "<pre class=\"language-APL\">Was -style=min\n",
       "</pre>"
      ]
     },
     "execution_count": 13,
     "metadata": {},
     "output_type": "execute_result"
    },
    {
     "data": {
      "text/html": [
       "<pre class=\"language-APL\">1\n",
       "</pre>"
      ]
     },
     "execution_count": 13,
     "metadata": {},
     "output_type": "execute_result"
    },
    {
     "data": {
      "text/html": [
       "<pre class=\"language-APL\">┌→──────┐\n",
       "│8 5 2 3│\n",
       "└~──────┘\n",
       "</pre>"
      ]
     },
     "execution_count": 13,
     "metadata": {},
     "output_type": "execute_result"
    }
   ],
   "source": [
    "⍝ Undo the extra formatting.\n",
    "] box -style=min\n",
    "\n",
    "⍝ You can use it as a one off with `]DISPLAY `\n",
    "\n",
    "⍝ This is true (1).\n",
    "⊖≡⍴4\n",
    "\n",
    "⍝ Now lets do a vector.\n",
    "]DISPLAY 8 5 2 3"
   ]
  },
  {
   "cell_type": "markdown",
   "metadata": {},
   "source": [
    "![Broomtilde](data/001_broomtilde.png)"
   ]
  },
  {
   "cell_type": "markdown",
   "metadata": {},
   "source": [
    "<style> * { max-width: 500px; } </style>\n",
    "\n",
    "So... what's with their weird equals symbols???\n",
    "\n",
    "That's probably a ridiculous thing to complain about at this point.\n",
    "\n",
    "It's a `≡` triple equals?\n",
    "\n",
    "It that the \"normal\" was to do equality?\n",
    "\n",
    "When trying to use the zilda symbol I realised the keymap I was looking at doesn't quite match what's on my machine.\n",
    "\n",
    "On the one I was looking at it is (intuitively) on the T-key.\n",
    "\n",
    "So T for tilde and Shift-T for zilde.\n",
    "\n",
    "Not so! \n",
    "\n",
    "The keymap I'm using is the *Dyalog APL/en-US keyboard*, shown here:\n",
    "https://dfns.dyalog.com/n_keyboards.htm\n",
    "\n",
    "The tilde is (less intuitively) on the 7-key.\n",
    "\n",
    "From the previous code we can see that the `→` right arrow is used if the input is a vector, instead of the `⊖` zilde used for scalars.\n"
   ]
  },
  {
   "cell_type": "code",
   "execution_count": 16,
   "metadata": {
    "vscode": {
     "languageId": "apl"
    }
   },
   "outputs": [
    {
     "data": {
      "text/html": [
       "<pre class=\"language-APL\">┌→────────┐\n",
       "↓1 2  3  4│\n",
       "│1 4  9 16│\n",
       "│1 8 27 64│\n",
       "└~────────┘\n",
       "</pre>"
      ]
     },
     "execution_count": 16,
     "metadata": {},
     "output_type": "execute_result"
    },
    {
     "data": {
      "text/html": [
       "<pre class=\"language-APL\">3 4\n",
       "</pre>"
      ]
     },
     "execution_count": 16,
     "metadata": {},
     "output_type": "execute_result"
    }
   ],
   "source": [
    "the_power ← ↑(1, 2, 3, 4)(1, 4, 9, 16)(1, 8, 27, 64)\n",
    "]DISPLAY the_power\n",
    "\n",
    "⎕←⍴the_power"
   ]
  },
  {
   "cell_type": "markdown",
   "metadata": {},
   "source": [
    "<style> * { max-width: 500px; } </style>\n",
    "\n",
    "I've got `the_power` 🎙️ !\n",
    "\n",
    "With two dimensions a `↓` down arrow is added to our ~~dance dance revolution board~~ displayed output indicating it's a matrix.\n",
    "\n",
    "This makes me wonder about higher dimensions...\n",
    "\n",
    "Also the rho character now return the dimensions, rows first then columns.\n",
    "\n",
    "That seems... backwards. No, hang on, that is the correct way to write matrix dimensions.\n",
    "\n",
    "It's not in the tutorial, but I want to test the display."
   ]
  },
  {
   "cell_type": "code",
   "execution_count": 40,
   "metadata": {
    "vscode": {
     "languageId": "apl"
    }
   },
   "outputs": [
    {
     "data": {
      "text/html": [
       "<pre class=\"language-APL\">┌→───────────────────────────┐\n",
       "↓ ┌→──────┐    ┌→──────┐     │\n",
       "│ │1 2 3 4│    │5 6 7 8│     │\n",
       "│ └~──────┘    └~──────┘     │\n",
       "│ ┌→─────────┐ ┌→──────────┐ │\n",
       "│ │9 10 11 12│ │13 14 15 16│ │\n",
       "│ └~─────────┘ └~──────────┘ │\n",
       "└∊───────────────────────────┘\n",
       "</pre>"
      ]
     },
     "execution_count": 40,
     "metadata": {},
     "output_type": "execute_result"
    },
    {
     "data": {
      "text/html": [
       "<pre class=\"language-APL\">2 2\n",
       "</pre>"
      ]
     },
     "execution_count": 40,
     "metadata": {},
     "output_type": "execute_result"
    },
    {
     "data": {
      "text/html": [
       "<pre class=\"language-APL\">┌→────────────────────────────────────────────────────────────────┐\n",
       "↓ ┌→────────────────────┐         ┌→───────────────────────────┐  │\n",
       "│ │ ┌→──────┐ ┌→──────┐ │         │ ┌→─────────┐ ┌→──────────┐ │  │\n",
       "│ │ │1 2 3 4│ │5 6 7 8│ │         │ │9 10 11 12│ │13 14 15 16│ │  │\n",
       "│ │ └~──────┘ └~──────┘ │         │ └~─────────┘ └~──────────┘ │  │\n",
       "│ └∊────────────────────┘         └∊───────────────────────────┘  │\n",
       "│ ┌→────────────────────────────┐ ┌→────────────────────────────┐ │\n",
       "│ │ ┌→──────────┐ ┌→──────────┐ │ │ ┌→──────────┐ ┌→──────────┐ │ │\n",
       "│ │ │17 18 19 20│ │21 22 23 24│ │ │ │25 26 27 28│ │29 30 31 32│ │ │\n",
       "│ │ └~──────────┘ └~──────────┘ │ │ └~──────────┘ └~──────────┘ │ │\n",
       "│ └∊────────────────────────────┘ └∊────────────────────────────┘ │\n",
       "└∊────────────────────────────────────────────────────────────────┘\n",
       "</pre>"
      ]
     },
     "execution_count": 40,
     "metadata": {},
     "output_type": "execute_result"
    },
    {
     "data": {
      "text/html": [
       "<pre class=\"language-APL\">2 2\n",
       "</pre>"
      ]
     },
     "execution_count": 40,
     "metadata": {},
     "output_type": "execute_result"
    },
    {
     "data": {
      "text/html": [
       "<pre class=\"language-APL\">┌┌→────────────────────────────┐\n",
       "↓↓ ┌→──────┐     ┌→──────┐     │\n",
       "││ │1 2 3 4│     │5 6 7 8│     │\n",
       "││ └~──────┘     └~──────┘     │\n",
       "││ ┌→─────────┐  ┌→──────────┐ │\n",
       "││ │9 10 11 12│  │13 14 15 16│ │\n",
       "││ └~─────────┘  └~──────────┘ │\n",
       "││ ┌→──────┐     ┌→──────┐     │\n",
       "││ │1 2 3 4│     │5 6 7 8│     │\n",
       "││ └~──────┘     └~──────┘     │\n",
       "││ ┌→─────────┐  ┌→──────────┐ │\n",
       "││ │9 10 11 12│  │13 14 15 16│ │\n",
       "││ └~─────────┘  └~──────────┘ │\n",
       "││ ┌→──────┐     ┌→──────┐     │\n",
       "││ │1 2 3 4│     │5 6 7 8│     │\n",
       "││ └~──────┘     └~──────┘     │\n",
       "││ ┌→─────────┐  ┌→──────────┐ │\n",
       "││ │9 10 11 12│  │13 14 15 16│ │\n",
       "││ └~─────────┘  └~──────────┘ │\n",
       "││                             │\n",
       "││ ┌→──────────┐ ┌→──────────┐ │\n",
       "││ │17 18 19 20│ │21 22 23 24│ │\n",
       "││ └~──────────┘ └~──────────┘ │\n",
       "││ ┌→──────────┐ ┌→──────────┐ │\n",
       "││ │25 26 27 28│ │29 30 31 32│ │\n",
       "││ └~──────────┘ └~──────────┘ │\n",
       "││ ┌→──────────┐ ┌→──────────┐ │\n",
       "││ │17 18 19 20│ │21 22 23 24│ │\n",
       "││ └~──────────┘ └~──────────┘ │\n",
       "││ ┌→──────────┐ ┌→──────────┐ │\n",
       "││ │25 26 27 28│ │29 30 31 32│ │\n",
       "││ └~──────────┘ └~──────────┘ │\n",
       "││ ┌→──────────┐ ┌→──────────┐ │\n",
       "││ │17 18 19 20│ │21 22 23 24│ │\n",
       "││ └~──────────┘ └~──────────┘ │\n",
       "││ ┌→──────────┐ ┌→──────────┐ │\n",
       "││ │25 26 27 28│ │29 30 31 32│ │\n",
       "││ └~──────────┘ └~──────────┘ │\n",
       "└└∊────────────────────────────┘\n",
       "</pre>"
      ]
     },
     "execution_count": 40,
     "metadata": {},
     "output_type": "execute_result"
    },
    {
     "data": {
      "text/html": [
       "<pre class=\"language-APL\">2 6 2\n",
       "</pre>"
      ]
     },
     "execution_count": 40,
     "metadata": {},
     "output_type": "execute_result"
    }
   ],
   "source": [
    "d3 ← ↑((1, 2, 3, 4)(5, 6, 7, 8))((9, 10, 11, 12)(13, 14, 15, 16))\n",
    "]DISPLAY d3\n",
    "⎕ ← ⍴d3\n",
    "d4 ← ↑(((1, 2, 3, 4)(5, 6, 7, 8))((9, 10, 11, 12)(13, 14, 15, 16)))(((17, 18, 19, 20)(21, 22, 23, 24))((25, 26, 27, 28)(29, 30, 31, 32)))\n",
    "]DISPLAY d4\n",
    "⎕ ← ⍴d4\n",
    "d5 ← ↑(d4, d4, d4)\n",
    "]DISPLAY d5\n",
    "⎕ ← ⍴d5"
   ]
  },
  {
   "cell_type": "markdown",
   "metadata": {},
   "source": [
    "<style> * { max-width: 500px; } </style>\n",
    "\n",
    "Huh. I think it's safe to say I don't yet understand this array operator.\n",
    "\n",
    "None of these examples construct more than two dimensions.\n",
    "\n",
    "They do however, use the contains symbol `∊` instead of the tilde.\n",
    "\n",
    "The last one is interesting in that it uses a second line on the left to indicate the extra dimension contains only duplicates.\n",
    "\n",
    "Perhaps an array of arrays is not the same as a 3d matrix?\n",
    "\n",
    "Anyway, I think that's enough for today. I'll review later.\n",
    "\n",
    "I'll have to see if there's a wiki for these symbols.\n",
    "\n",
    "We've learnt the following operators:\n",
    " - `↑` extra-dimensional\n",
    " - `⍴` shape\n",
    " - `+⌿` dimension operator\n",
    " - `⊖` zilde\n",
    " - And some handy display commands!\n",
    "\n",
    "Later."
   ]
  }
 ],
 "metadata": {
  "kernelspec": {
   "display_name": "Dyalog APL",
   "language": "apl",
   "name": "dyalog_apl"
  },
  "language_info": {
   "file_extension": ".apl",
   "mimetype": "text/apl",
   "name": "APL"
  }
 },
 "nbformat": 4,
 "nbformat_minor": 2
}
